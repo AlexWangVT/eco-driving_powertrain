{
 "cells": [
  {
   "cell_type": "code",
   "execution_count": null,
   "metadata": {},
   "outputs": [],
   "source": [
    "import pandas as pd\n",
    "import numpy as np\n",
    "import matplotlib.pyplot as plt"
   ]
  },
  {
   "cell_type": "code",
   "execution_count": null,
   "metadata": {},
   "outputs": [],
   "source": [
    "control_method = [\"No_control\", \"Signal_optimization_only\", \"Eco-Driving_only\", \"Proposed_control\"]\n",
    "cav_percentage = [\"0\", \"10\", \"20\", \"30\", \"40\", \"50\", \"60\", \"70\", \"80\", \"90\", \"100\"]\n",
    "demand_percentage = [\"10\"]\n",
    "filepath = 'results/' + control_method[0] + '_' + \"demand\" + demand_perct[0] + '_' + \"CAV\" + cav_percentage[1]\n",
    "\n",
    "for control_idx in control_method:\n",
    "    for cav_perct in cav_percentage:\n",
    "        for demand_perct in demand_percentage:\n",
    "\n",
    "trajectory_results = pd.read_csv(filepath, delimiter='\\t')\n",
    "filter_trajctory_by_time = trajectory_results[trajectory_results['simulation_time'].between(4000, 4500)]\n",
    "vehicle_id = filter_trajctory_by_time.vehicle_id.unique()\n",
    "control_vehicle_id = 5380\n",
    "non_control_vehicle_id = 154\n",
    "section_dict = {'1249': [1252, 5325], '1272': [1270, 1784]}"
   ]
  }
 ],
 "metadata": {
  "kernelspec": {
   "display_name": ".venv",
   "language": "python",
   "name": "python3"
  },
  "language_info": {
   "name": "python",
   "version": "3.7.9"
  }
 },
 "nbformat": 4,
 "nbformat_minor": 2
}
